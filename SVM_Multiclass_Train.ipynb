{
 "cells": [
  {
   "cell_type": "code",
   "execution_count": 1,
   "metadata": {},
   "outputs": [],
   "source": [
    "import pandas as pd\n",
    "import numpy as np"
   ]
  },
  {
   "cell_type": "code",
   "execution_count": 14,
   "metadata": {},
   "outputs": [
    {
     "data": {
      "text/html": [
       "<div>\n",
       "<style scoped>\n",
       "    .dataframe tbody tr th:only-of-type {\n",
       "        vertical-align: middle;\n",
       "    }\n",
       "\n",
       "    .dataframe tbody tr th {\n",
       "        vertical-align: top;\n",
       "    }\n",
       "\n",
       "    .dataframe thead th {\n",
       "        text-align: right;\n",
       "    }\n",
       "</style>\n",
       "<table border=\"1\" class=\"dataframe\">\n",
       "  <thead>\n",
       "    <tr style=\"text-align: right;\">\n",
       "      <th></th>\n",
       "      <th>id_code</th>\n",
       "      <th>current_date</th>\n",
       "      <th>current_time</th>\n",
       "      <th>source_name</th>\n",
       "      <th>destination_name</th>\n",
       "      <th>train_name</th>\n",
       "      <th>target</th>\n",
       "      <th>country_code_source</th>\n",
       "      <th>longitude_source</th>\n",
       "      <th>latitude_source</th>\n",
       "      <th>mean_halt_times_source</th>\n",
       "      <th>country_code_destination</th>\n",
       "      <th>longitude_destination</th>\n",
       "      <th>latitude_destination</th>\n",
       "      <th>mean_halt_times_destination</th>\n",
       "      <th>current_year</th>\n",
       "      <th>current_week</th>\n",
       "      <th>current_day</th>\n",
       "      <th>is_weekend</th>\n",
       "    </tr>\n",
       "  </thead>\n",
       "  <tbody>\n",
       "    <tr>\n",
       "      <td>0</td>\n",
       "      <td>isfywypmkqqhyft</td>\n",
       "      <td>2016-07-27</td>\n",
       "      <td>08:05:51 PM</td>\n",
       "      <td>station$147</td>\n",
       "      <td>station$1</td>\n",
       "      <td>ICZVZS</td>\n",
       "      <td>high</td>\n",
       "      <td>whber</td>\n",
       "      <td>4.356801</td>\n",
       "      <td>50.845658</td>\n",
       "      <td>634.16474</td>\n",
       "      <td>NaN</td>\n",
       "      <td>NaN</td>\n",
       "      <td>NaN</td>\n",
       "      <td>NaN</td>\n",
       "      <td>2016</td>\n",
       "      <td>30</td>\n",
       "      <td>Wednesday</td>\n",
       "      <td>False</td>\n",
       "    </tr>\n",
       "    <tr>\n",
       "      <td>1</td>\n",
       "      <td>mqsfxyvuqpbwomk</td>\n",
       "      <td>2016-07-27</td>\n",
       "      <td>08:06:11 PM</td>\n",
       "      <td>station$147</td>\n",
       "      <td>station$1</td>\n",
       "      <td>ICZVZS</td>\n",
       "      <td>high</td>\n",
       "      <td>whber</td>\n",
       "      <td>4.356801</td>\n",
       "      <td>50.845658</td>\n",
       "      <td>634.16474</td>\n",
       "      <td>NaN</td>\n",
       "      <td>NaN</td>\n",
       "      <td>NaN</td>\n",
       "      <td>NaN</td>\n",
       "      <td>2016</td>\n",
       "      <td>30</td>\n",
       "      <td>Wednesday</td>\n",
       "      <td>False</td>\n",
       "    </tr>\n",
       "    <tr>\n",
       "      <td>2</td>\n",
       "      <td>alspwwtbdvqsgby</td>\n",
       "      <td>2016-07-27</td>\n",
       "      <td>08:08:57 PM</td>\n",
       "      <td>station$147</td>\n",
       "      <td>station$1</td>\n",
       "      <td>ICZVZS</td>\n",
       "      <td>high</td>\n",
       "      <td>whber</td>\n",
       "      <td>4.356801</td>\n",
       "      <td>50.845658</td>\n",
       "      <td>634.16474</td>\n",
       "      <td>NaN</td>\n",
       "      <td>NaN</td>\n",
       "      <td>NaN</td>\n",
       "      <td>NaN</td>\n",
       "      <td>2016</td>\n",
       "      <td>30</td>\n",
       "      <td>Wednesday</td>\n",
       "      <td>False</td>\n",
       "    </tr>\n",
       "    <tr>\n",
       "      <td>3</td>\n",
       "      <td>szitxhhqduyrqpg</td>\n",
       "      <td>2016-07-27</td>\n",
       "      <td>08:09:08 PM</td>\n",
       "      <td>station$147</td>\n",
       "      <td>station$1</td>\n",
       "      <td>ICZVZS</td>\n",
       "      <td>high</td>\n",
       "      <td>whber</td>\n",
       "      <td>4.356801</td>\n",
       "      <td>50.845658</td>\n",
       "      <td>634.16474</td>\n",
       "      <td>NaN</td>\n",
       "      <td>NaN</td>\n",
       "      <td>NaN</td>\n",
       "      <td>NaN</td>\n",
       "      <td>2016</td>\n",
       "      <td>30</td>\n",
       "      <td>Wednesday</td>\n",
       "      <td>False</td>\n",
       "    </tr>\n",
       "    <tr>\n",
       "      <td>4</td>\n",
       "      <td>krisdqzczivvwcp</td>\n",
       "      <td>2016-07-27</td>\n",
       "      <td>08:11:01 PM</td>\n",
       "      <td>station$147</td>\n",
       "      <td>station$1</td>\n",
       "      <td>ICZVZS</td>\n",
       "      <td>high</td>\n",
       "      <td>whber</td>\n",
       "      <td>4.356801</td>\n",
       "      <td>50.845658</td>\n",
       "      <td>634.16474</td>\n",
       "      <td>NaN</td>\n",
       "      <td>NaN</td>\n",
       "      <td>NaN</td>\n",
       "      <td>NaN</td>\n",
       "      <td>2016</td>\n",
       "      <td>30</td>\n",
       "      <td>Wednesday</td>\n",
       "      <td>False</td>\n",
       "    </tr>\n",
       "  </tbody>\n",
       "</table>\n",
       "</div>"
      ],
      "text/plain": [
       "           id_code current_date current_time  source_name destination_name  \\\n",
       "0  isfywypmkqqhyft   2016-07-27  08:05:51 PM  station$147        station$1   \n",
       "1  mqsfxyvuqpbwomk   2016-07-27  08:06:11 PM  station$147        station$1   \n",
       "2  alspwwtbdvqsgby   2016-07-27  08:08:57 PM  station$147        station$1   \n",
       "3  szitxhhqduyrqpg   2016-07-27  08:09:08 PM  station$147        station$1   \n",
       "4  krisdqzczivvwcp   2016-07-27  08:11:01 PM  station$147        station$1   \n",
       "\n",
       "  train_name target country_code_source  longitude_source  latitude_source  \\\n",
       "0     ICZVZS   high               whber          4.356801        50.845658   \n",
       "1     ICZVZS   high               whber          4.356801        50.845658   \n",
       "2     ICZVZS   high               whber          4.356801        50.845658   \n",
       "3     ICZVZS   high               whber          4.356801        50.845658   \n",
       "4     ICZVZS   high               whber          4.356801        50.845658   \n",
       "\n",
       "   mean_halt_times_source country_code_destination  longitude_destination  \\\n",
       "0               634.16474                      NaN                    NaN   \n",
       "1               634.16474                      NaN                    NaN   \n",
       "2               634.16474                      NaN                    NaN   \n",
       "3               634.16474                      NaN                    NaN   \n",
       "4               634.16474                      NaN                    NaN   \n",
       "\n",
       "   latitude_destination  mean_halt_times_destination  current_year  \\\n",
       "0                   NaN                          NaN          2016   \n",
       "1                   NaN                          NaN          2016   \n",
       "2                   NaN                          NaN          2016   \n",
       "3                   NaN                          NaN          2016   \n",
       "4                   NaN                          NaN          2016   \n",
       "\n",
       "   current_week current_day  is_weekend  \n",
       "0            30   Wednesday       False  \n",
       "1            30   Wednesday       False  \n",
       "2            30   Wednesday       False  \n",
       "3            30   Wednesday       False  \n",
       "4            30   Wednesday       False  "
      ]
     },
     "execution_count": 14,
     "metadata": {},
     "output_type": "execute_result"
    }
   ],
   "source": [
    "data=pd.read_csv('Train.csv')\n",
    "data.head()"
   ]
  },
  {
   "cell_type": "code",
   "execution_count": 16,
   "metadata": {},
   "outputs": [
    {
     "data": {
      "text/html": [
       "<div>\n",
       "<style scoped>\n",
       "    .dataframe tbody tr th:only-of-type {\n",
       "        vertical-align: middle;\n",
       "    }\n",
       "\n",
       "    .dataframe tbody tr th {\n",
       "        vertical-align: top;\n",
       "    }\n",
       "\n",
       "    .dataframe thead th {\n",
       "        text-align: right;\n",
       "    }\n",
       "</style>\n",
       "<table border=\"1\" class=\"dataframe\">\n",
       "  <thead>\n",
       "    <tr style=\"text-align: right;\">\n",
       "      <th></th>\n",
       "      <th>Type</th>\n",
       "      <th>Levels</th>\n",
       "      <th>Labels</th>\n",
       "    </tr>\n",
       "  </thead>\n",
       "  <tbody>\n",
       "    <tr>\n",
       "      <td>id_code</td>\n",
       "      <td>object</td>\n",
       "      <td>1284</td>\n",
       "      <td>['isfywypmkqqhyft' 'mqsfxyvuqpbwomk' 'alspwwtb...</td>\n",
       "    </tr>\n",
       "    <tr>\n",
       "      <td>current_date</td>\n",
       "      <td>object</td>\n",
       "      <td>61</td>\n",
       "      <td>['2016-07-27' '2016-07-28' '2016-07-29' '2016-...</td>\n",
       "    </tr>\n",
       "    <tr>\n",
       "      <td>current_time</td>\n",
       "      <td>object</td>\n",
       "      <td>1262</td>\n",
       "      <td>['08:05:51 PM' '08:06:11 PM' '08:08:57 PM' ......</td>\n",
       "    </tr>\n",
       "    <tr>\n",
       "      <td>source_name</td>\n",
       "      <td>object</td>\n",
       "      <td>188</td>\n",
       "      <td>['station$147' 'station$130' 'station$248' 'st...</td>\n",
       "    </tr>\n",
       "    <tr>\n",
       "      <td>destination_name</td>\n",
       "      <td>object</td>\n",
       "      <td>218</td>\n",
       "      <td>['station$1' 'station$214' 'station$248' 'stat...</td>\n",
       "    </tr>\n",
       "    <tr>\n",
       "      <td>train_name</td>\n",
       "      <td>object</td>\n",
       "      <td>560</td>\n",
       "      <td>['ICZVZS' 'UNDEFINED' 'ICWVYA' 'ICZVXY' 'ICXUY...</td>\n",
       "    </tr>\n",
       "    <tr>\n",
       "      <td>target</td>\n",
       "      <td>object</td>\n",
       "      <td>3</td>\n",
       "      <td>['high' 'medium' 'low']</td>\n",
       "    </tr>\n",
       "    <tr>\n",
       "      <td>country_code_source</td>\n",
       "      <td>object</td>\n",
       "      <td>5</td>\n",
       "      <td>['whber' 'wsluu' nan 'logbp' 'qwnll']</td>\n",
       "    </tr>\n",
       "    <tr>\n",
       "      <td>longitude_source</td>\n",
       "      <td>float64</td>\n",
       "      <td>188</td>\n",
       "      <td>[4.356801 4.360846 5.497685 4.482076 3.710675 ...</td>\n",
       "    </tr>\n",
       "    <tr>\n",
       "      <td>latitude_source</td>\n",
       "      <td>float64</td>\n",
       "      <td>188</td>\n",
       "      <td>[50.845658 50.859663 50.967057 50.896456 51.03...</td>\n",
       "    </tr>\n",
       "    <tr>\n",
       "      <td>mean_halt_times_source</td>\n",
       "      <td>float64</td>\n",
       "      <td>155</td>\n",
       "      <td>[634.16473988439 640.26589595376 39.4768786127...</td>\n",
       "    </tr>\n",
       "    <tr>\n",
       "      <td>country_code_destination</td>\n",
       "      <td>object</td>\n",
       "      <td>6</td>\n",
       "      <td>[nan 'whber' 'aqfre' 'qwnll' 'zxdec' 'logbp']</td>\n",
       "    </tr>\n",
       "    <tr>\n",
       "      <td>longitude_destination</td>\n",
       "      <td>float64</td>\n",
       "      <td>217</td>\n",
       "      <td>[nan 4.482785 5.497685 4.356801 4.360846 4.336...</td>\n",
       "    </tr>\n",
       "    <tr>\n",
       "      <td>latitude_destination</td>\n",
       "      <td>float64</td>\n",
       "      <td>214</td>\n",
       "      <td>[nan 51.017648 50.967057 50.845658 50.859663 5...</td>\n",
       "    </tr>\n",
       "    <tr>\n",
       "      <td>mean_halt_times_destination</td>\n",
       "      <td>float64</td>\n",
       "      <td>172</td>\n",
       "      <td>[nan 306.52312138728 39.476878612717 634.16473...</td>\n",
       "    </tr>\n",
       "    <tr>\n",
       "      <td>current_year</td>\n",
       "      <td>int64</td>\n",
       "      <td>1</td>\n",
       "      <td>[2016]</td>\n",
       "    </tr>\n",
       "    <tr>\n",
       "      <td>current_week</td>\n",
       "      <td>int64</td>\n",
       "      <td>11</td>\n",
       "      <td>[30 31 32 33 34 35 36 37 38 39 40]</td>\n",
       "    </tr>\n",
       "    <tr>\n",
       "      <td>current_day</td>\n",
       "      <td>object</td>\n",
       "      <td>7</td>\n",
       "      <td>['Wednesday' 'Thursday' 'Friday' 'Saturday' 'S...</td>\n",
       "    </tr>\n",
       "    <tr>\n",
       "      <td>is_weekend</td>\n",
       "      <td>bool</td>\n",
       "      <td>2</td>\n",
       "      <td>[False True]</td>\n",
       "    </tr>\n",
       "  </tbody>\n",
       "</table>\n",
       "</div>"
      ],
      "text/plain": [
       "                                Type  Levels  \\\n",
       "id_code                       object    1284   \n",
       "current_date                  object      61   \n",
       "current_time                  object    1262   \n",
       "source_name                   object     188   \n",
       "destination_name              object     218   \n",
       "train_name                    object     560   \n",
       "target                        object       3   \n",
       "country_code_source           object       5   \n",
       "longitude_source             float64     188   \n",
       "latitude_source              float64     188   \n",
       "mean_halt_times_source       float64     155   \n",
       "country_code_destination      object       6   \n",
       "longitude_destination        float64     217   \n",
       "latitude_destination         float64     214   \n",
       "mean_halt_times_destination  float64     172   \n",
       "current_year                   int64       1   \n",
       "current_week                   int64      11   \n",
       "current_day                   object       7   \n",
       "is_weekend                      bool       2   \n",
       "\n",
       "                                                                        Labels  \n",
       "id_code                      ['isfywypmkqqhyft' 'mqsfxyvuqpbwomk' 'alspwwtb...  \n",
       "current_date                 ['2016-07-27' '2016-07-28' '2016-07-29' '2016-...  \n",
       "current_time                 ['08:05:51 PM' '08:06:11 PM' '08:08:57 PM' ......  \n",
       "source_name                  ['station$147' 'station$130' 'station$248' 'st...  \n",
       "destination_name             ['station$1' 'station$214' 'station$248' 'stat...  \n",
       "train_name                   ['ICZVZS' 'UNDEFINED' 'ICWVYA' 'ICZVXY' 'ICXUY...  \n",
       "target                                                 ['high' 'medium' 'low']  \n",
       "country_code_source                      ['whber' 'wsluu' nan 'logbp' 'qwnll']  \n",
       "longitude_source             [4.356801 4.360846 5.497685 4.482076 3.710675 ...  \n",
       "latitude_source              [50.845658 50.859663 50.967057 50.896456 51.03...  \n",
       "mean_halt_times_source       [634.16473988439 640.26589595376 39.4768786127...  \n",
       "country_code_destination         [nan 'whber' 'aqfre' 'qwnll' 'zxdec' 'logbp']  \n",
       "longitude_destination        [nan 4.482785 5.497685 4.356801 4.360846 4.336...  \n",
       "latitude_destination         [nan 51.017648 50.967057 50.845658 50.859663 5...  \n",
       "mean_halt_times_destination  [nan 306.52312138728 39.476878612717 634.16473...  \n",
       "current_year                                                            [2016]  \n",
       "current_week                                [30 31 32 33 34 35 36 37 38 39 40]  \n",
       "current_day                  ['Wednesday' 'Thursday' 'Friday' 'Saturday' 'S...  \n",
       "is_weekend                                                        [False True]  "
      ]
     },
     "execution_count": 16,
     "metadata": {},
     "output_type": "execute_result"
    }
   ],
   "source": [
    "def inspect_data(data):\n",
    "    return pd.DataFrame({'Type': data.dtypes, 'Levels': data.apply(lambda x: x.unique().shape[0],axis=0), 'Labels': data.apply(lambda x: str(x.unique()), axis=0)})\n",
    "inspect_data(data)"
   ]
  },
  {
   "cell_type": "code",
   "execution_count": 17,
   "metadata": {},
   "outputs": [],
   "source": [
    "data.drop(['destination_name','id_code','source_name','train_name','country_code_destination', 'country_code_source'], axis=1, inplace=True)"
   ]
  },
  {
   "cell_type": "code",
   "execution_count": 18,
   "metadata": {},
   "outputs": [
    {
     "data": {
      "text/plain": [
       "current_date                    0\n",
       "current_time                    0\n",
       "target                          0\n",
       "longitude_source                1\n",
       "latitude_source                 1\n",
       "mean_halt_times_source          1\n",
       "longitude_destination          33\n",
       "latitude_destination           33\n",
       "mean_halt_times_destination    33\n",
       "current_year                    0\n",
       "current_week                    0\n",
       "current_day                     0\n",
       "is_weekend                      0\n",
       "dtype: int64"
      ]
     },
     "execution_count": 18,
     "metadata": {},
     "output_type": "execute_result"
    }
   ],
   "source": [
    "data.isnull().sum()"
   ]
  },
  {
   "cell_type": "code",
   "execution_count": 19,
   "metadata": {},
   "outputs": [],
   "source": [
    "data.dropna(inplace=True)"
   ]
  },
  {
   "cell_type": "code",
   "execution_count": 20,
   "metadata": {},
   "outputs": [
    {
     "data": {
      "text/plain": [
       "current_date                   0\n",
       "current_time                   0\n",
       "target                         0\n",
       "longitude_source               0\n",
       "latitude_source                0\n",
       "mean_halt_times_source         0\n",
       "longitude_destination          0\n",
       "latitude_destination           0\n",
       "mean_halt_times_destination    0\n",
       "current_year                   0\n",
       "current_week                   0\n",
       "current_day                    0\n",
       "is_weekend                     0\n",
       "dtype: int64"
      ]
     },
     "execution_count": 20,
     "metadata": {},
     "output_type": "execute_result"
    }
   ],
   "source": [
    "data.isnull().sum()"
   ]
  },
  {
   "cell_type": "code",
   "execution_count": 24,
   "metadata": {},
   "outputs": [
    {
     "data": {
      "text/html": [
       "<div>\n",
       "<style scoped>\n",
       "    .dataframe tbody tr th:only-of-type {\n",
       "        vertical-align: middle;\n",
       "    }\n",
       "\n",
       "    .dataframe tbody tr th {\n",
       "        vertical-align: top;\n",
       "    }\n",
       "\n",
       "    .dataframe thead th {\n",
       "        text-align: right;\n",
       "    }\n",
       "</style>\n",
       "<table border=\"1\" class=\"dataframe\">\n",
       "  <thead>\n",
       "    <tr style=\"text-align: right;\">\n",
       "      <th></th>\n",
       "      <th>current_date</th>\n",
       "      <th>current_time</th>\n",
       "      <th>target</th>\n",
       "      <th>longitude_source</th>\n",
       "      <th>latitude_source</th>\n",
       "      <th>mean_halt_times_source</th>\n",
       "      <th>longitude_destination</th>\n",
       "      <th>latitude_destination</th>\n",
       "      <th>mean_halt_times_destination</th>\n",
       "      <th>current_year</th>\n",
       "      <th>current_week</th>\n",
       "      <th>current_day</th>\n",
       "      <th>is_weekend</th>\n",
       "      <th>current_hour</th>\n",
       "    </tr>\n",
       "  </thead>\n",
       "  <tbody>\n",
       "    <tr>\n",
       "      <td>31</td>\n",
       "      <td>2016-07-27</td>\n",
       "      <td>11:41:46 PM</td>\n",
       "      <td>high</td>\n",
       "      <td>4.360846</td>\n",
       "      <td>50.859663</td>\n",
       "      <td>640.265896</td>\n",
       "      <td>4.482785</td>\n",
       "      <td>51.017648</td>\n",
       "      <td>306.523121</td>\n",
       "      <td>2016</td>\n",
       "      <td>30</td>\n",
       "      <td>Wednesday</td>\n",
       "      <td>False</td>\n",
       "      <td>23</td>\n",
       "    </tr>\n",
       "    <tr>\n",
       "      <td>32</td>\n",
       "      <td>2016-07-28</td>\n",
       "      <td>12:04:25 AM</td>\n",
       "      <td>low</td>\n",
       "      <td>5.497685</td>\n",
       "      <td>50.967057</td>\n",
       "      <td>39.476879</td>\n",
       "      <td>5.497685</td>\n",
       "      <td>50.967057</td>\n",
       "      <td>39.476879</td>\n",
       "      <td>2016</td>\n",
       "      <td>30</td>\n",
       "      <td>Thursday</td>\n",
       "      <td>False</td>\n",
       "      <td>0</td>\n",
       "    </tr>\n",
       "    <tr>\n",
       "      <td>34</td>\n",
       "      <td>2016-07-28</td>\n",
       "      <td>12:18:09 AM</td>\n",
       "      <td>low</td>\n",
       "      <td>5.497685</td>\n",
       "      <td>50.967057</td>\n",
       "      <td>39.476879</td>\n",
       "      <td>4.356801</td>\n",
       "      <td>50.845658</td>\n",
       "      <td>634.164740</td>\n",
       "      <td>2016</td>\n",
       "      <td>30</td>\n",
       "      <td>Thursday</td>\n",
       "      <td>False</td>\n",
       "      <td>0</td>\n",
       "    </tr>\n",
       "    <tr>\n",
       "      <td>35</td>\n",
       "      <td>2016-07-28</td>\n",
       "      <td>12:38:28 AM</td>\n",
       "      <td>high</td>\n",
       "      <td>4.482076</td>\n",
       "      <td>50.896456</td>\n",
       "      <td>171.020231</td>\n",
       "      <td>4.360846</td>\n",
       "      <td>50.859663</td>\n",
       "      <td>640.265896</td>\n",
       "      <td>2016</td>\n",
       "      <td>30</td>\n",
       "      <td>Thursday</td>\n",
       "      <td>False</td>\n",
       "      <td>0</td>\n",
       "    </tr>\n",
       "    <tr>\n",
       "      <td>36</td>\n",
       "      <td>2016-07-28</td>\n",
       "      <td>08:50:27 AM</td>\n",
       "      <td>medium</td>\n",
       "      <td>3.710675</td>\n",
       "      <td>51.035896</td>\n",
       "      <td>309.014451</td>\n",
       "      <td>4.356801</td>\n",
       "      <td>50.845658</td>\n",
       "      <td>634.164740</td>\n",
       "      <td>2016</td>\n",
       "      <td>30</td>\n",
       "      <td>Thursday</td>\n",
       "      <td>False</td>\n",
       "      <td>8</td>\n",
       "    </tr>\n",
       "  </tbody>\n",
       "</table>\n",
       "</div>"
      ],
      "text/plain": [
       "   current_date current_time  target  longitude_source  latitude_source  \\\n",
       "31   2016-07-27  11:41:46 PM    high          4.360846        50.859663   \n",
       "32   2016-07-28  12:04:25 AM     low          5.497685        50.967057   \n",
       "34   2016-07-28  12:18:09 AM     low          5.497685        50.967057   \n",
       "35   2016-07-28  12:38:28 AM    high          4.482076        50.896456   \n",
       "36   2016-07-28  08:50:27 AM  medium          3.710675        51.035896   \n",
       "\n",
       "    mean_halt_times_source  longitude_destination  latitude_destination  \\\n",
       "31              640.265896               4.482785             51.017648   \n",
       "32               39.476879               5.497685             50.967057   \n",
       "34               39.476879               4.356801             50.845658   \n",
       "35              171.020231               4.360846             50.859663   \n",
       "36              309.014451               4.356801             50.845658   \n",
       "\n",
       "    mean_halt_times_destination  current_year  current_week current_day  \\\n",
       "31                   306.523121          2016            30   Wednesday   \n",
       "32                    39.476879          2016            30    Thursday   \n",
       "34                   634.164740          2016            30    Thursday   \n",
       "35                   640.265896          2016            30    Thursday   \n",
       "36                   634.164740          2016            30    Thursday   \n",
       "\n",
       "    is_weekend  current_hour  \n",
       "31       False            23  \n",
       "32       False             0  \n",
       "34       False             0  \n",
       "35       False             0  \n",
       "36       False             8  "
      ]
     },
     "execution_count": 24,
     "metadata": {},
     "output_type": "execute_result"
    }
   ],
   "source": [
    "data.head()"
   ]
  },
  {
   "cell_type": "code",
   "execution_count": 23,
   "metadata": {},
   "outputs": [],
   "source": [
    "data['current_hour']= pd.to_datetime(data.current_time).dt.hour"
   ]
  },
  {
   "cell_type": "code",
   "execution_count": 25,
   "metadata": {},
   "outputs": [],
   "source": [
    "data.drop(['current_date','current_year','current_time','current_week'], axis=1, inplace=True)"
   ]
  },
  {
   "cell_type": "code",
   "execution_count": 26,
   "metadata": {},
   "outputs": [
    {
     "data": {
      "text/plain": [
       "Index(['target', 'longitude_source', 'latitude_source',\n",
       "       'mean_halt_times_source', 'longitude_destination',\n",
       "       'latitude_destination', 'mean_halt_times_destination', 'current_day',\n",
       "       'is_weekend', 'current_hour'],\n",
       "      dtype='object')"
      ]
     },
     "execution_count": 26,
     "metadata": {},
     "output_type": "execute_result"
    }
   ],
   "source": [
    "#Clustering spaial analysis\n",
    "data.columns"
   ]
  },
  {
   "cell_type": "code",
   "execution_count": 28,
   "metadata": {},
   "outputs": [],
   "source": [
    "spatial_data=data[['longitude_destination','longitude_source','latitude_source','latitude_destination']]"
   ]
  },
  {
   "cell_type": "code",
   "execution_count": 31,
   "metadata": {},
   "outputs": [],
   "source": [
    "#Normalizing spatal data\n",
    "from sklearn.preprocessing import MinMaxScaler\n",
    "scaler=MinMaxScaler()\n",
    "spatial_data=pd.DataFrame( scaler.fit_transform(spatial_data), columns=spatial_data.columns)"
   ]
  },
  {
   "cell_type": "code",
   "execution_count": 32,
   "metadata": {},
   "outputs": [
    {
     "data": {
      "text/html": [
       "<div>\n",
       "<style scoped>\n",
       "    .dataframe tbody tr th:only-of-type {\n",
       "        vertical-align: middle;\n",
       "    }\n",
       "\n",
       "    .dataframe tbody tr th {\n",
       "        vertical-align: top;\n",
       "    }\n",
       "\n",
       "    .dataframe thead th {\n",
       "        text-align: right;\n",
       "    }\n",
       "</style>\n",
       "<table border=\"1\" class=\"dataframe\">\n",
       "  <thead>\n",
       "    <tr style=\"text-align: right;\">\n",
       "      <th></th>\n",
       "      <th>longitude_destination</th>\n",
       "      <th>longitude_source</th>\n",
       "      <th>latitude_source</th>\n",
       "      <th>latitude_destination</th>\n",
       "    </tr>\n",
       "  </thead>\n",
       "  <tbody>\n",
       "    <tr>\n",
       "      <td>0</td>\n",
       "      <td>0.626976</td>\n",
       "      <td>0.734556</td>\n",
       "      <td>0.534061</td>\n",
       "      <td>0.847436</td>\n",
       "    </tr>\n",
       "    <tr>\n",
       "      <td>1</td>\n",
       "      <td>0.779875</td>\n",
       "      <td>0.920669</td>\n",
       "      <td>0.581027</td>\n",
       "      <td>0.841767</td>\n",
       "    </tr>\n",
       "    <tr>\n",
       "      <td>2</td>\n",
       "      <td>0.607997</td>\n",
       "      <td>0.920669</td>\n",
       "      <td>0.581027</td>\n",
       "      <td>0.828163</td>\n",
       "    </tr>\n",
       "    <tr>\n",
       "      <td>3</td>\n",
       "      <td>0.608606</td>\n",
       "      <td>0.754403</td>\n",
       "      <td>0.550152</td>\n",
       "      <td>0.829733</td>\n",
       "    </tr>\n",
       "    <tr>\n",
       "      <td>4</td>\n",
       "      <td>0.607997</td>\n",
       "      <td>0.628116</td>\n",
       "      <td>0.611132</td>\n",
       "      <td>0.828163</td>\n",
       "    </tr>\n",
       "    <tr>\n",
       "      <td>...</td>\n",
       "      <td>...</td>\n",
       "      <td>...</td>\n",
       "      <td>...</td>\n",
       "      <td>...</td>\n",
       "    </tr>\n",
       "    <tr>\n",
       "      <td>1245</td>\n",
       "      <td>0.716898</td>\n",
       "      <td>0.734556</td>\n",
       "      <td>0.534061</td>\n",
       "      <td>0.817212</td>\n",
       "    </tr>\n",
       "    <tr>\n",
       "      <td>1246</td>\n",
       "      <td>0.662091</td>\n",
       "      <td>0.628116</td>\n",
       "      <td>0.611132</td>\n",
       "      <td>0.832267</td>\n",
       "    </tr>\n",
       "    <tr>\n",
       "      <td>1247</td>\n",
       "      <td>0.609287</td>\n",
       "      <td>0.733894</td>\n",
       "      <td>0.527936</td>\n",
       "      <td>0.805726</td>\n",
       "    </tr>\n",
       "    <tr>\n",
       "      <td>1248</td>\n",
       "      <td>0.612112</td>\n",
       "      <td>0.733894</td>\n",
       "      <td>0.527936</td>\n",
       "      <td>0.790086</td>\n",
       "    </tr>\n",
       "    <tr>\n",
       "      <td>1249</td>\n",
       "      <td>0.619359</td>\n",
       "      <td>0.767260</td>\n",
       "      <td>0.654804</td>\n",
       "      <td>0.867784</td>\n",
       "    </tr>\n",
       "  </tbody>\n",
       "</table>\n",
       "<p>1250 rows × 4 columns</p>\n",
       "</div>"
      ],
      "text/plain": [
       "      longitude_destination  longitude_source  latitude_source  \\\n",
       "0                  0.626976          0.734556         0.534061   \n",
       "1                  0.779875          0.920669         0.581027   \n",
       "2                  0.607997          0.920669         0.581027   \n",
       "3                  0.608606          0.754403         0.550152   \n",
       "4                  0.607997          0.628116         0.611132   \n",
       "...                     ...               ...              ...   \n",
       "1245               0.716898          0.734556         0.534061   \n",
       "1246               0.662091          0.628116         0.611132   \n",
       "1247               0.609287          0.733894         0.527936   \n",
       "1248               0.612112          0.733894         0.527936   \n",
       "1249               0.619359          0.767260         0.654804   \n",
       "\n",
       "      latitude_destination  \n",
       "0                 0.847436  \n",
       "1                 0.841767  \n",
       "2                 0.828163  \n",
       "3                 0.829733  \n",
       "4                 0.828163  \n",
       "...                    ...  \n",
       "1245              0.817212  \n",
       "1246              0.832267  \n",
       "1247              0.805726  \n",
       "1248              0.790086  \n",
       "1249              0.867784  \n",
       "\n",
       "[1250 rows x 4 columns]"
      ]
     },
     "execution_count": 32,
     "metadata": {},
     "output_type": "execute_result"
    }
   ],
   "source": [
    "spatial_data"
   ]
  },
  {
   "cell_type": "code",
   "execution_count": 34,
   "metadata": {},
   "outputs": [
    {
     "data": {
      "image/png": "[encoded data removed]",
      "text/plain": [
       "<Figure size 432x288 with 1 Axes>"
      ]
     },
     "metadata": {
      "needs_background": "light"
     },
     "output_type": "display_data"
    }
   ],
   "source": [
    "import matplotlib.pyplot as plt\n",
    "from sklearn.cluster import KMeans\n",
    "wss = {}\n",
    "for k in range(2, 15):\n",
    "    kmeans = KMeans(n_clusters=k)\n",
    "    kmeans.fit(spatial_data)\n",
    "    wss[k] = kmeans.inertia_ # Inertia: Sum of distances of samples to their closest cluster center\n",
    "plt.figure()\n",
    "\n",
    "plt.plot(list(wss.keys()), list(wss.values()))\n",
    "plt.xlabel(\"Number of cluster\")\n",
    "plt.ylabel(\"wss\")\n",
    "plt.show()"
   ]
  },
  {
   "cell_type": "code",
   "execution_count": 35,
   "metadata": {},
   "outputs": [],
   "source": [
    "from sklearn.cluster import KMeans\n",
    "kmeans_object = KMeans(n_clusters=4, random_state=1240)\n",
    "kmeans_object.fit(spatial_data)\n",
    "data['cluster'] = kmeans_object.predict(spatial_data)"
   ]
  },
  {
   "cell_type": "code",
   "execution_count": 36,
   "metadata": {},
   "outputs": [
    {
     "data": {
      "text/plain": [
       "31      1\n",
       "32      3\n",
       "34      2\n",
       "35      1\n",
       "36      0\n",
       "       ..\n",
       "1279    1\n",
       "1280    0\n",
       "1281    1\n",
       "1282    1\n",
       "1283    2\n",
       "Name: cluster, Length: 1250, dtype: int32"
      ]
     },
     "execution_count": 36,
     "metadata": {},
     "output_type": "execute_result"
    }
   ],
   "source": [
    "data['cluster']"
   ]
  },
  {
   "cell_type": "code",
   "execution_count": 38,
   "metadata": {},
   "outputs": [
    {
     "name": "stdout",
     "output_type": "stream",
     "text": [
      "(1250,) (1250, 10)\n"
     ]
    }
   ],
   "source": [
    "#Decoupling target\n",
    "y=data['target']\n",
    "X=data[data.columns.difference(['target'])]\n",
    "print(y.shape, X.shape)"
   ]
  },
  {
   "cell_type": "code",
   "execution_count": 39,
   "metadata": {},
   "outputs": [
    {
     "name": "stdout",
     "output_type": "stream",
     "text": [
      "(875, 10) (875,) (375, 10) (375,)\n"
     ]
    }
   ],
   "source": [
    "from sklearn.model_selection import train_test_split\n",
    "X_train, X_test, y_train,y_test=train_test_split(X,y, test_size=0.3, stratify=y)\n",
    "print(X_train.shape, y_train.shape, X_test.shape, y_test.shape)"
   ]
  },
  {
   "cell_type": "code",
   "execution_count": 40,
   "metadata": {},
   "outputs": [
    {
     "data": {
      "text/plain": [
       "low       372\n",
       "high      263\n",
       "medium    240\n",
       "Name: target, dtype: int64"
      ]
     },
     "execution_count": 40,
     "metadata": {},
     "output_type": "execute_result"
    }
   ],
   "source": [
    "y_train.value_counts()"
   ]
  },
  {
   "cell_type": "code",
   "execution_count": 41,
   "metadata": {},
   "outputs": [
    {
     "data": {
      "text/plain": [
       "low       159\n",
       "high      113\n",
       "medium    103\n",
       "Name: target, dtype: int64"
      ]
     },
     "execution_count": 41,
     "metadata": {},
     "output_type": "execute_result"
    }
   ],
   "source": [
    "y_test.value_counts()"
   ]
  },
  {
   "cell_type": "code",
   "execution_count": 42,
   "metadata": {},
   "outputs": [],
   "source": [
    "X_train=pd.get_dummies(X_train)\n",
    "X_test=pd.get_dummies(X_test)\n"
   ]
  },
  {
   "cell_type": "code",
   "execution_count": 45,
   "metadata": {},
   "outputs": [
    {
     "name": "stdout",
     "output_type": "stream",
     "text": [
      "(875, 16) (375, 16)\n"
     ]
    }
   ],
   "source": [
    "print(X_train.shape, X_test.shape)"
   ]
  },
  {
   "cell_type": "code",
   "execution_count": 44,
   "metadata": {},
   "outputs": [],
   "source": [
    "#Alignment of dataframe\n",
    "X_train, X_test=X_train.align(X_test, join='left', fill_value=0, axis=1)"
   ]
  },
  {
   "cell_type": "code",
   "execution_count": 46,
   "metadata": {},
   "outputs": [],
   "source": [
    "from sklearn.preprocessing import MinMaxScaler\n",
    "full_scaler=MinMaxScaler()\n",
    "full_scaler.fit(X_train)\n",
    "X_train = pd.DataFrame(full_scaler.transform(X_train), columns=X_train.columns)\n",
    "X_test = pd.DataFrame(full_scaler.transform(X_test), columns=X_test.columns)"
   ]
  },
  {
   "cell_type": "code",
   "execution_count": 47,
   "metadata": {},
   "outputs": [
    {
     "name": "stdout",
     "output_type": "stream",
     "text": [
      "[[136  68  59]\n",
      " [ 90 213  69]\n",
      " [ 74  88  78]]\n",
      "[[39 43 31]\n",
      " [46 70 43]\n",
      " [37 31 35]]\n",
      "              precision    recall  f1-score   support\n",
      "\n",
      "        high       0.45      0.52      0.48       263\n",
      "         low       0.58      0.57      0.57       372\n",
      "      medium       0.38      0.33      0.35       240\n",
      "\n",
      "    accuracy                           0.49       875\n",
      "   macro avg       0.47      0.47      0.47       875\n",
      "weighted avg       0.49      0.49      0.49       875\n",
      "\n",
      "              precision    recall  f1-score   support\n",
      "\n",
      "        high       0.32      0.35      0.33       113\n",
      "         low       0.49      0.44      0.46       159\n",
      "      medium       0.32      0.34      0.33       103\n",
      "\n",
      "    accuracy                           0.38       375\n",
      "   macro avg       0.38      0.38      0.37       375\n",
      "weighted avg       0.39      0.38      0.39       375\n",
      "\n"
     ]
    }
   ],
   "source": [
    "from sklearn.linear_model import LogisticRegression\n",
    "from sklearn.metrics import confusion_matrix, classification_report\n",
    "\n",
    "logistic = LogisticRegression(class_weight='balanced')\n",
    "logistic.fit(X_train, y_train)\n",
    "\n",
    "logistic_train_preds = logistic.predict(X_train)\n",
    "logistic_test_preds = logistic.predict(X_test)\n",
    "\n",
    "print(confusion_matrix(y_train, logistic_train_preds))\n",
    "print(confusion_matrix(y_test, logistic_test_preds))\n",
    "\n",
    "print(classification_report(y_train, logistic_train_preds))\n",
    "print(classification_report(y_test, logistic_test_preds))"
   ]
  },
  {
   "cell_type": "code",
   "execution_count": 49,
   "metadata": {},
   "outputs": [],
   "source": [
    "from sklearn.svm import SVC\n",
    "svm1=SVC(class_weight='balanced', C=0.1,  gamma=1, kernel='rbf')\n",
    "svm1.fit(X_train, y_train)\n",
    "svm_train_preds=svm1.predict(X_train)\n",
    "svm_test_preds=svm1.predict(X_test)"
   ]
  },
  {
   "cell_type": "code",
   "execution_count": 50,
   "metadata": {},
   "outputs": [
    {
     "name": "stdout",
     "output_type": "stream",
     "text": [
      "[[114  78  71]\n",
      " [ 66 240  66]\n",
      " [ 53  98  89]]\n",
      "[[33 48 32]\n",
      " [35 84 40]\n",
      " [25 41 37]]\n"
     ]
    }
   ],
   "source": [
    "print(confusion_matrix(y_train, svm_train_preds))\n",
    "print(confusion_matrix(y_test, svm_test_preds))"
   ]
  },
  {
   "cell_type": "code",
   "execution_count": 51,
   "metadata": {},
   "outputs": [
    {
     "name": "stdout",
     "output_type": "stream",
     "text": [
      "              precision    recall  f1-score   support\n",
      "\n",
      "        high       0.49      0.43      0.46       263\n",
      "         low       0.58      0.65      0.61       372\n",
      "      medium       0.39      0.37      0.38       240\n",
      "\n",
      "    accuracy                           0.51       875\n",
      "   macro avg       0.49      0.48      0.48       875\n",
      "weighted avg       0.50      0.51      0.50       875\n",
      "\n",
      "              precision    recall  f1-score   support\n",
      "\n",
      "        high       0.35      0.29      0.32       113\n",
      "         low       0.49      0.53      0.51       159\n",
      "      medium       0.34      0.36      0.35       103\n",
      "\n",
      "    accuracy                           0.41       375\n",
      "   macro avg       0.39      0.39      0.39       375\n",
      "weighted avg       0.41      0.41      0.41       375\n",
      "\n"
     ]
    }
   ],
   "source": [
    "print(classification_report(y_train, svm_train_preds))\n",
    "print(classification_report(y_test, svm_test_preds))"
   ]
  },
  {
   "cell_type": "code",
   "execution_count": 56,
   "metadata": {},
   "outputs": [],
   "source": [
    "from sklearn.svm import SVC\n",
    "svm2=SVC(class_weight='balanced', C=0.1,  gamma=1, kernel='rbf',probability=True)\n",
    "svm2.fit(X_train, y_train)\n",
    "svm_train_preds2=svm1.predict(X_train)\n",
    "svm_test_preds2=svm1.predict(X_test)"
   ]
  },
  {
   "cell_type": "code",
   "execution_count": 57,
   "metadata": {},
   "outputs": [],
   "source": [
    "svm1.probability=True\n",
    "svm_train_preds_prob=svm2.predict_proba(X_train)\n",
    "svm_test_preds_prob=svm2.predict_proba(X_test)"
   ]
  },
  {
   "cell_type": "code",
   "execution_count": 58,
   "metadata": {},
   "outputs": [
    {
     "data": {
      "text/plain": [
       "array([[0.3975588 , 0.30721888, 0.29522232],\n",
       "       [0.18571778, 0.53854279, 0.27573943],\n",
       "       [0.18148275, 0.53808997, 0.28042728],\n",
       "       ...,\n",
       "       [0.21512513, 0.51949597, 0.2653789 ],\n",
       "       [0.32688764, 0.38834983, 0.28476253],\n",
       "       [0.22785279, 0.50143644, 0.27071077]])"
      ]
     },
     "execution_count": 58,
     "metadata": {},
     "output_type": "execute_result"
    }
   ],
   "source": [
    "svm_train_preds_prob"
   ]
  }
 ],
 "metadata": {
  "kernelspec": {
   "display_name": "Python 3",
   "language": "python",
   "name": "python3"
  },
  "language_info": {
   "codemirror_mode": {
    "name": "ipython",
    "version": 3
   },
   "file_extension": ".py",
   "mimetype": "text/x-python",
   "name": "python",
   "nbconvert_exporter": "python",
   "pygments_lexer": "ipython3",
   "version": "3.7.4"
  }
 },
 "nbformat": 4,
 "nbformat_minor": 2
}

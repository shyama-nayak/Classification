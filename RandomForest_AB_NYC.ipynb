{
 "cells": [
  {
   "cell_type": "code",
   "execution_count": 2,
   "metadata": {},
   "outputs": [],
   "source": [
    "import pandas as pd\n",
    "import numpy as np"
   ]
  },
  {
   "cell_type": "code",
   "execution_count": 3,
   "metadata": {},
   "outputs": [
    {
     "name": "stdout",
     "output_type": "stream",
     "text": [
      "(48895, 16)\n"
     ]
    },
    {
     "data": {
      "text/html": [
       "<div>\n",
       "<style scoped>\n",
       "    .dataframe tbody tr th:only-of-type {\n",
       "        vertical-align: middle;\n",
       "    }\n",
       "\n",
       "    .dataframe tbody tr th {\n",
       "        vertical-align: top;\n",
       "    }\n",
       "\n",
       "    .dataframe thead th {\n",
       "        text-align: right;\n",
       "    }\n",
       "</style>\n",
       "<table border=\"1\" class=\"dataframe\">\n",
       "  <thead>\n",
       "    <tr style=\"text-align: right;\">\n",
       "      <th></th>\n",
       "      <th>id</th>\n",
       "      <th>name</th>\n",
       "      <th>host_id</th>\n",
       "      <th>host_name</th>\n",
       "      <th>neighbourhood_group</th>\n",
       "      <th>neighbourhood</th>\n",
       "      <th>latitude</th>\n",
       "      <th>longitude</th>\n",
       "      <th>room_type</th>\n",
       "      <th>price</th>\n",
       "      <th>minimum_nights</th>\n",
       "      <th>number_of_reviews</th>\n",
       "      <th>last_review</th>\n",
       "      <th>reviews_per_month</th>\n",
       "      <th>calculated_host_listings_count</th>\n",
       "      <th>availability_365</th>\n",
       "    </tr>\n",
       "  </thead>\n",
       "  <tbody>\n",
       "    <tr>\n",
       "      <td>0</td>\n",
       "      <td>2539</td>\n",
       "      <td>Clean &amp; quiet apt home by the park</td>\n",
       "      <td>2787</td>\n",
       "      <td>John</td>\n",
       "      <td>Brooklyn</td>\n",
       "      <td>Kensington</td>\n",
       "      <td>40.64749</td>\n",
       "      <td>-73.97237</td>\n",
       "      <td>Private room</td>\n",
       "      <td>149</td>\n",
       "      <td>1</td>\n",
       "      <td>9</td>\n",
       "      <td>2018-10-19</td>\n",
       "      <td>0.21</td>\n",
       "      <td>6</td>\n",
       "      <td>365</td>\n",
       "    </tr>\n",
       "    <tr>\n",
       "      <td>1</td>\n",
       "      <td>2595</td>\n",
       "      <td>Skylit Midtown Castle</td>\n",
       "      <td>2845</td>\n",
       "      <td>Jennifer</td>\n",
       "      <td>Manhattan</td>\n",
       "      <td>Midtown</td>\n",
       "      <td>40.75362</td>\n",
       "      <td>-73.98377</td>\n",
       "      <td>Entire home/apt</td>\n",
       "      <td>225</td>\n",
       "      <td>1</td>\n",
       "      <td>45</td>\n",
       "      <td>2019-05-21</td>\n",
       "      <td>0.38</td>\n",
       "      <td>2</td>\n",
       "      <td>355</td>\n",
       "    </tr>\n",
       "    <tr>\n",
       "      <td>2</td>\n",
       "      <td>3647</td>\n",
       "      <td>THE VILLAGE OF HARLEM....NEW YORK !</td>\n",
       "      <td>4632</td>\n",
       "      <td>Elisabeth</td>\n",
       "      <td>Manhattan</td>\n",
       "      <td>Harlem</td>\n",
       "      <td>40.80902</td>\n",
       "      <td>-73.94190</td>\n",
       "      <td>Private room</td>\n",
       "      <td>150</td>\n",
       "      <td>3</td>\n",
       "      <td>0</td>\n",
       "      <td>NaN</td>\n",
       "      <td>NaN</td>\n",
       "      <td>1</td>\n",
       "      <td>365</td>\n",
       "    </tr>\n",
       "    <tr>\n",
       "      <td>3</td>\n",
       "      <td>3831</td>\n",
       "      <td>Cozy Entire Floor of Brownstone</td>\n",
       "      <td>4869</td>\n",
       "      <td>LisaRoxanne</td>\n",
       "      <td>Brooklyn</td>\n",
       "      <td>Clinton Hill</td>\n",
       "      <td>40.68514</td>\n",
       "      <td>-73.95976</td>\n",
       "      <td>Entire home/apt</td>\n",
       "      <td>89</td>\n",
       "      <td>1</td>\n",
       "      <td>270</td>\n",
       "      <td>2019-07-05</td>\n",
       "      <td>4.64</td>\n",
       "      <td>1</td>\n",
       "      <td>194</td>\n",
       "    </tr>\n",
       "    <tr>\n",
       "      <td>4</td>\n",
       "      <td>5022</td>\n",
       "      <td>Entire Apt: Spacious Studio/Loft by central park</td>\n",
       "      <td>7192</td>\n",
       "      <td>Laura</td>\n",
       "      <td>Manhattan</td>\n",
       "      <td>East Harlem</td>\n",
       "      <td>40.79851</td>\n",
       "      <td>-73.94399</td>\n",
       "      <td>Entire home/apt</td>\n",
       "      <td>80</td>\n",
       "      <td>10</td>\n",
       "      <td>9</td>\n",
       "      <td>2018-11-19</td>\n",
       "      <td>0.10</td>\n",
       "      <td>1</td>\n",
       "      <td>0</td>\n",
       "    </tr>\n",
       "  </tbody>\n",
       "</table>\n",
       "</div>"
      ],
      "text/plain": [
       "     id                                              name  host_id  \\\n",
       "0  2539                Clean & quiet apt home by the park     2787   \n",
       "1  2595                             Skylit Midtown Castle     2845   \n",
       "2  3647               THE VILLAGE OF HARLEM....NEW YORK !     4632   \n",
       "3  3831                   Cozy Entire Floor of Brownstone     4869   \n",
       "4  5022  Entire Apt: Spacious Studio/Loft by central park     7192   \n",
       "\n",
       "     host_name neighbourhood_group neighbourhood  latitude  longitude  \\\n",
       "0         John            Brooklyn    Kensington  40.64749  -73.97237   \n",
       "1     Jennifer           Manhattan       Midtown  40.75362  -73.98377   \n",
       "2    Elisabeth           Manhattan        Harlem  40.80902  -73.94190   \n",
       "3  LisaRoxanne            Brooklyn  Clinton Hill  40.68514  -73.95976   \n",
       "4        Laura           Manhattan   East Harlem  40.79851  -73.94399   \n",
       "\n",
       "         room_type  price  minimum_nights  number_of_reviews last_review  \\\n",
       "0     Private room    149               1                  9  2018-10-19   \n",
       "1  Entire home/apt    225               1                 45  2019-05-21   \n",
       "2     Private room    150               3                  0         NaN   \n",
       "3  Entire home/apt     89               1                270  2019-07-05   \n",
       "4  Entire home/apt     80              10                  9  2018-11-19   \n",
       "\n",
       "   reviews_per_month  calculated_host_listings_count  availability_365  \n",
       "0               0.21                               6               365  \n",
       "1               0.38                               2               355  \n",
       "2                NaN                               1               365  \n",
       "3               4.64                               1               194  \n",
       "4               0.10                               1                 0  "
      ]
     },
     "execution_count": 3,
     "metadata": {},
     "output_type": "execute_result"
    }
   ],
   "source": [
    "nyc_data=pd.read_csv('AB_NYC_2019.csv')\n",
    "print(nyc_data.shape)\n",
    "nyc_data.head()\n"
   ]
  },
  {
   "cell_type": "code",
   "execution_count": 4,
   "metadata": {},
   "outputs": [
    {
     "data": {
      "text/plain": [
       "219517861    327\n",
       "107434423    232\n",
       "30283594     121\n",
       "137358866    103\n",
       "12243051      96\n",
       "            ... \n",
       "1641589        1\n",
       "4070519        1\n",
       "208106618      1\n",
       "235939247      1\n",
       "1288080        1\n",
       "Name: host_id, Length: 37457, dtype: int64"
      ]
     },
     "execution_count": 4,
     "metadata": {},
     "output_type": "execute_result"
    }
   ],
   "source": [
    "nyc_data.host_id.value_counts()"
   ]
  },
  {
   "cell_type": "code",
   "execution_count": 5,
   "metadata": {},
   "outputs": [
    {
     "data": {
      "text/plain": [
       "Index(['id', 'name', 'host_id', 'host_name', 'neighbourhood_group',\n",
       "       'neighbourhood', 'latitude', 'longitude', 'room_type', 'price',\n",
       "       'minimum_nights', 'number_of_reviews', 'last_review',\n",
       "       'reviews_per_month', 'calculated_host_listings_count',\n",
       "       'availability_365'],\n",
       "      dtype='object')"
      ]
     },
     "execution_count": 5,
     "metadata": {},
     "output_type": "execute_result"
    }
   ],
   "source": [
    "nyc_data.columns"
   ]
  },
  {
   "cell_type": "code",
   "execution_count": 6,
   "metadata": {},
   "outputs": [],
   "source": [
    "nyc_data.drop(['id', 'name', 'host_id', 'host_name','neighbourhood'],axis=1, inplace=True )"
   ]
  },
  {
   "cell_type": "code",
   "execution_count": 7,
   "metadata": {},
   "outputs": [
    {
     "data": {
      "text/html": [
       "<div>\n",
       "<style scoped>\n",
       "    .dataframe tbody tr th:only-of-type {\n",
       "        vertical-align: middle;\n",
       "    }\n",
       "\n",
       "    .dataframe tbody tr th {\n",
       "        vertical-align: top;\n",
       "    }\n",
       "\n",
       "    .dataframe thead th {\n",
       "        text-align: right;\n",
       "    }\n",
       "</style>\n",
       "<table border=\"1\" class=\"dataframe\">\n",
       "  <thead>\n",
       "    <tr style=\"text-align: right;\">\n",
       "      <th></th>\n",
       "      <th>Type</th>\n",
       "      <th>Levels</th>\n",
       "      <th>Labels</th>\n",
       "    </tr>\n",
       "  </thead>\n",
       "  <tbody>\n",
       "    <tr>\n",
       "      <td>neighbourhood_group</td>\n",
       "      <td>object</td>\n",
       "      <td>5</td>\n",
       "      <td>['Brooklyn' 'Manhattan' 'Queens' 'Staten Islan...</td>\n",
       "    </tr>\n",
       "    <tr>\n",
       "      <td>latitude</td>\n",
       "      <td>float64</td>\n",
       "      <td>19048</td>\n",
       "      <td>[40.647490000000005 40.75362 40.80902000000000...</td>\n",
       "    </tr>\n",
       "    <tr>\n",
       "      <td>longitude</td>\n",
       "      <td>float64</td>\n",
       "      <td>14718</td>\n",
       "      <td>[-73.97237 -73.98376999999999 -73.9419 ... -73...</td>\n",
       "    </tr>\n",
       "    <tr>\n",
       "      <td>room_type</td>\n",
       "      <td>object</td>\n",
       "      <td>3</td>\n",
       "      <td>['Private room' 'Entire home/apt' 'Shared room']</td>\n",
       "    </tr>\n",
       "    <tr>\n",
       "      <td>price</td>\n",
       "      <td>int64</td>\n",
       "      <td>674</td>\n",
       "      <td>[149 225 150 89 80 200 60 79 135 85 120 140 21...</td>\n",
       "    </tr>\n",
       "    <tr>\n",
       "      <td>minimum_nights</td>\n",
       "      <td>int64</td>\n",
       "      <td>109</td>\n",
       "      <td>[1 3 10 45 2 5 4 90 7 14 60 29 30 180 9 31 6 1...</td>\n",
       "    </tr>\n",
       "    <tr>\n",
       "      <td>number_of_reviews</td>\n",
       "      <td>int64</td>\n",
       "      <td>394</td>\n",
       "      <td>[9 45 0 270 74 49 430 118 160 53 188 167 113 2...</td>\n",
       "    </tr>\n",
       "    <tr>\n",
       "      <td>last_review</td>\n",
       "      <td>object</td>\n",
       "      <td>1765</td>\n",
       "      <td>['2018-10-19' '2019-05-21' nan ... '2017-12-23...</td>\n",
       "    </tr>\n",
       "    <tr>\n",
       "      <td>reviews_per_month</td>\n",
       "      <td>float64</td>\n",
       "      <td>938</td>\n",
       "      <td>[0.21 0.38 nan 4.64 0.1 0.59 0.4 3.47 0.99 1.3...</td>\n",
       "    </tr>\n",
       "    <tr>\n",
       "      <td>calculated_host_listings_count</td>\n",
       "      <td>int64</td>\n",
       "      <td>47</td>\n",
       "      <td>[6 2 1 4 3 5 7 13 28 11 8 9 52 18 15 19 10 39 ...</td>\n",
       "    </tr>\n",
       "    <tr>\n",
       "      <td>availability_365</td>\n",
       "      <td>int64</td>\n",
       "      <td>366</td>\n",
       "      <td>[365 355 194 0 129 220 188 6 39 314 333 46 321...</td>\n",
       "    </tr>\n",
       "  </tbody>\n",
       "</table>\n",
       "</div>"
      ],
      "text/plain": [
       "                                   Type  Levels  \\\n",
       "neighbourhood_group              object       5   \n",
       "latitude                        float64   19048   \n",
       "longitude                       float64   14718   \n",
       "room_type                        object       3   \n",
       "price                             int64     674   \n",
       "minimum_nights                    int64     109   \n",
       "number_of_reviews                 int64     394   \n",
       "last_review                      object    1765   \n",
       "reviews_per_month               float64     938   \n",
       "calculated_host_listings_count    int64      47   \n",
       "availability_365                  int64     366   \n",
       "\n",
       "                                                                           Labels  \n",
       "neighbourhood_group             ['Brooklyn' 'Manhattan' 'Queens' 'Staten Islan...  \n",
       "latitude                        [40.647490000000005 40.75362 40.80902000000000...  \n",
       "longitude                       [-73.97237 -73.98376999999999 -73.9419 ... -73...  \n",
       "room_type                        ['Private room' 'Entire home/apt' 'Shared room']  \n",
       "price                           [149 225 150 89 80 200 60 79 135 85 120 140 21...  \n",
       "minimum_nights                  [1 3 10 45 2 5 4 90 7 14 60 29 30 180 9 31 6 1...  \n",
       "number_of_reviews               [9 45 0 270 74 49 430 118 160 53 188 167 113 2...  \n",
       "last_review                     ['2018-10-19' '2019-05-21' nan ... '2017-12-23...  \n",
       "reviews_per_month               [0.21 0.38 nan 4.64 0.1 0.59 0.4 3.47 0.99 1.3...  \n",
       "calculated_host_listings_count  [6 2 1 4 3 5 7 13 28 11 8 9 52 18 15 19 10 39 ...  \n",
       "availability_365                [365 355 194 0 129 220 188 6 39 314 333 46 321...  "
      ]
     },
     "execution_count": 7,
     "metadata": {},
     "output_type": "execute_result"
    }
   ],
   "source": [
    "def inspect_data(data):\n",
    "    return pd.DataFrame({'Type': data.dtypes, 'Levels': data.apply(lambda x: x.unique().shape[0],axis=0), 'Labels': data.apply(lambda x: str(x.unique()),axis=0)})\n",
    "inspect_data(nyc_data)"
   ]
  },
  {
   "cell_type": "code",
   "execution_count": 8,
   "metadata": {},
   "outputs": [
    {
     "data": {
      "text/plain": [
       "neighbourhood_group                   0\n",
       "latitude                              0\n",
       "longitude                             0\n",
       "room_type                             0\n",
       "price                                 0\n",
       "minimum_nights                        0\n",
       "number_of_reviews                     0\n",
       "last_review                       10052\n",
       "reviews_per_month                 10052\n",
       "calculated_host_listings_count        0\n",
       "availability_365                      0\n",
       "dtype: int64"
      ]
     },
     "execution_count": 8,
     "metadata": {},
     "output_type": "execute_result"
    }
   ],
   "source": [
    "nyc_data.isnull().sum()"
   ]
  },
  {
   "cell_type": "code",
   "execution_count": 9,
   "metadata": {},
   "outputs": [],
   "source": [
    "nyc_data['last_review']= pd.to_datetime(nyc_data['last_review'])"
   ]
  },
  {
   "cell_type": "code",
   "execution_count": 10,
   "metadata": {},
   "outputs": [
    {
     "data": {
      "text/plain": [
       "0       2018-10-19\n",
       "1       2019-05-21\n",
       "2              NaT\n",
       "3       2019-07-05\n",
       "4       2018-11-19\n",
       "           ...    \n",
       "48890          NaT\n",
       "48891          NaT\n",
       "48892          NaT\n",
       "48893          NaT\n",
       "48894          NaT\n",
       "Name: last_review, Length: 48895, dtype: datetime64[ns]"
      ]
     },
     "execution_count": 10,
     "metadata": {},
     "output_type": "execute_result"
    }
   ],
   "source": [
    "nyc_data.last_review"
   ]
  },
  {
   "cell_type": "code",
   "execution_count": 11,
   "metadata": {},
   "outputs": [],
   "source": [
    "nyc_data['last_review']=max(nyc_data['last_review'])-nyc_data['last_review']"
   ]
  },
  {
   "cell_type": "code",
   "execution_count": 12,
   "metadata": {},
   "outputs": [],
   "source": [
    "nyc_data['last_review'].fillna(max(nyc_data['last_review']), inplace=True)"
   ]
  },
  {
   "cell_type": "code",
   "execution_count": 13,
   "metadata": {},
   "outputs": [],
   "source": [
    "nyc_data['last_review']= nyc_data['last_review'].dt.days"
   ]
  },
  {
   "cell_type": "code",
   "execution_count": 14,
   "metadata": {},
   "outputs": [
    {
     "data": {
      "text/plain": [
       "neighbourhood_group                   0\n",
       "latitude                              0\n",
       "longitude                             0\n",
       "room_type                             0\n",
       "price                                 0\n",
       "minimum_nights                        0\n",
       "number_of_reviews                     0\n",
       "last_review                           0\n",
       "reviews_per_month                 10052\n",
       "calculated_host_listings_count        0\n",
       "availability_365                      0\n",
       "dtype: int64"
      ]
     },
     "execution_count": 14,
     "metadata": {},
     "output_type": "execute_result"
    }
   ],
   "source": [
    "nyc_data.isnull().sum()"
   ]
  },
  {
   "cell_type": "code",
   "execution_count": 15,
   "metadata": {},
   "outputs": [
    {
     "data": {
      "text/plain": [
       "neighbourhood_group               0\n",
       "latitude                          0\n",
       "longitude                         0\n",
       "room_type                         0\n",
       "price                             0\n",
       "minimum_nights                    0\n",
       "number_of_reviews                 0\n",
       "last_review                       0\n",
       "reviews_per_month                 0\n",
       "calculated_host_listings_count    0\n",
       "availability_365                  0\n",
       "dtype: int64"
      ]
     },
     "execution_count": 15,
     "metadata": {},
     "output_type": "execute_result"
    }
   ],
   "source": [
    "nyc_data.reviews_per_month.fillna(0, inplace=True)\n",
    "nyc_data.isnull().sum()"
   ]
  },
  {
   "cell_type": "code",
   "execution_count": 16,
   "metadata": {},
   "outputs": [
    {
     "data": {
      "text/plain": [
       "(48895, 17)"
      ]
     },
     "execution_count": 16,
     "metadata": {},
     "output_type": "execute_result"
    }
   ],
   "source": [
    "nyc_data=pd.get_dummies(nyc_data)\n",
    "nyc_data.shape"
   ]
  },
  {
   "cell_type": "code",
   "execution_count": 17,
   "metadata": {},
   "outputs": [
    {
     "data": {
      "text/plain": [
       "0      17533\n",
       "365     1295\n",
       "364      491\n",
       "1        408\n",
       "89       361\n",
       "       ...  \n",
       "195       26\n",
       "196       24\n",
       "183       24\n",
       "181       23\n",
       "202       20\n",
       "Name: availability_365, Length: 366, dtype: int64"
      ]
     },
     "execution_count": 17,
     "metadata": {},
     "output_type": "execute_result"
    }
   ],
   "source": [
    "nyc_data.availability_365.value_counts()"
   ]
  },
  {
   "cell_type": "code",
   "execution_count": 18,
   "metadata": {},
   "outputs": [],
   "source": [
    "#Decoupling target\n",
    "y=nyc_data['availability_365']\n",
    "X=nyc_data[nyc_data.columns.difference(['availability_365'])]"
   ]
  },
  {
   "cell_type": "code",
   "execution_count": 19,
   "metadata": {},
   "outputs": [],
   "source": [
    "#Train test split\n",
    "from sklearn.model_selection import train_test_split\n",
    "X_train, X_test, y_train, y_test=train_test_split(X,y,test_size=0.3, stratify=y)"
   ]
  },
  {
   "cell_type": "code",
   "execution_count": 20,
   "metadata": {},
   "outputs": [
    {
     "name": "stdout",
     "output_type": "stream",
     "text": [
      "(34226, 16) (34226,) (14669, 16) (14669,)\n"
     ]
    }
   ],
   "source": [
    "print(X_train.shape, y_train.shape,X_test.shape, y_test.shape)"
   ]
  },
  {
   "cell_type": "code",
   "execution_count": 21,
   "metadata": {},
   "outputs": [
    {
     "name": "stdout",
     "output_type": "stream",
     "text": [
      "0.15424532786733902\n",
      "0.15965066196492217\n"
     ]
    }
   ],
   "source": [
    "from sklearn.linear_model import LinearRegression\n",
    "lr=LinearRegression()\n",
    "lr.fit(X_train, y_train)\n",
    "print(lr.score(X_train, y_train))\n",
    "print(lr.score(X_test, y_test))"
   ]
  },
  {
   "cell_type": "code",
   "execution_count": 22,
   "metadata": {},
   "outputs": [
    {
     "name": "stdout",
     "output_type": "stream",
     "text": [
      "Train MSE:  14648.85218625913\n",
      "Test MSE:  14565.374175921492\n"
     ]
    }
   ],
   "source": [
    "from sklearn.metrics import mean_squared_error\n",
    "print('Train MSE: ', mean_squared_error(y_train, lr.predict(X_train)) )\n",
    "print('Test MSE: ', mean_squared_error(y_test, lr.predict(X_test)) )"
   ]
  },
  {
   "cell_type": "markdown",
   "metadata": {},
   "source": [
    "# Decision Tree"
   ]
  },
  {
   "cell_type": "code",
   "execution_count": 23,
   "metadata": {},
   "outputs": [
    {
     "name": "stdout",
     "output_type": "stream",
     "text": [
      "0.36178625526640773\n",
      "0.32680775008783336\n",
      "11054.149764572456\n",
      "11668.120112081135\n"
     ]
    }
   ],
   "source": [
    "from sklearn.tree import DecisionTreeRegressor\n",
    "dt=DecisionTreeRegressor(max_depth=7)\n",
    "dt.fit(X_train, y_train)\n",
    "\n",
    "print(dt.score(X_train, y_train))\n",
    "print(dt.score(X_test, y_test))\n",
    "\n",
    "print(mean_squared_error(y_train, dt.predict(X_train)))\n",
    "print(mean_squared_error(y_test, dt.predict(X_test)))"
   ]
  },
  {
   "cell_type": "markdown",
   "metadata": {},
   "source": [
    "# Decision Tree tuning"
   ]
  },
  {
   "cell_type": "code",
   "execution_count": 31,
   "metadata": {},
   "outputs": [
    {
     "name": "stdout",
     "output_type": "stream",
     "text": [
      "Best tree:  DecisionTreeRegressor(ccp_alpha=0.0, criterion='mse', max_depth=8,\n",
      "                      max_features=None, max_leaf_nodes=27,\n",
      "                      min_impurity_decrease=0.0, min_impurity_split=None,\n",
      "                      min_samples_leaf=1,\n",
      "                      min_samples_split=0.009000000000000001,\n",
      "                      min_weight_fraction_leaf=0.019999999999999997,\n",
      "                      presort='deprecated', random_state=None, splitter='best')\n",
      "Best sore:  0.30779935943099107\n",
      "Test score:  0.32754203445256347\n",
      "Train error:  11848.72117155323\n",
      "Test error:  11655.39311148775\n"
     ]
    }
   ],
   "source": [
    "from sklearn.model_selection import RandomizedSearchCV\n",
    "dt=DecisionTreeRegressor()\n",
    "grid_params={'max_depth':np.arange(3,15,1),\n",
    "            'max_leaf_nodes': np.arange(5,30,1),\n",
    "             'min_samples_split': np.arange(0.001,0.1,0.001),\n",
    "            'min_weight_fraction_leaf':np.arange(0.01,0.25,0.005)}\n",
    "rsearch_dt=RandomizedSearchCV(estimator=dt, param_distributions=grid_params, n_iter=500, n_jobs=-1)\n",
    "rsearch_dt.fit(X_train, y_train)\n",
    "print('Best tree: ',rsearch_dt.best_estimator_)\n",
    "print('Best sore: ', rsearch_dt.best_score_)\n",
    "print('Test score: ', rsearch_dt.score(X_test, y_test))\n",
    "print('Train error: ', mean_squared_error(y_train, rsearch_dt.predict(X_train)))\n",
    "print('Test error: ', mean_squared_error(y_test, rsearch_dt.predict(X_test)))"
   ]
  },
  {
   "cell_type": "markdown",
   "metadata": {},
   "source": [
    "# Random Forest"
   ]
  },
  {
   "cell_type": "code",
   "execution_count": 32,
   "metadata": {},
   "outputs": [
    {
     "name": "stdout",
     "output_type": "stream",
     "text": [
      "Train R2 = 0.47388666290720405\n",
      "Train R2 = 0.39618955196615546\n",
      "Train - MSE\n",
      "9112.520169540388\n",
      "Test - MSE\n",
      "10465.558439669572\n"
     ]
    }
   ],
   "source": [
    "from sklearn.ensemble import RandomForestRegressor\n",
    "rf=RandomForestRegressor(n_estimators=100, max_depth=10, max_features=7)\n",
    "rf.fit(X_train, y_train)\n",
    "print('Train R2 =', rf.score(X_train, y_train))\n",
    "print('Train R2 =', rf.score(X_test, y_test))\n",
    "\n",
    "print(\"Train - MSE\")\n",
    "print(mean_squared_error(y_train,rf.predict(X_train)))\n",
    "print(\"Test - MSE\")\n",
    "print(mean_squared_error(y_test,rf.predict(X_test)))"
   ]
  },
  {
   "cell_type": "code",
   "execution_count": 34,
   "metadata": {},
   "outputs": [
    {
     "data": {
      "image/png": "[encoded data removed]",
      "text/plain": [
       "<Figure size 432x288 with 1 Axes>"
      ]
     },
     "metadata": {
      "needs_background": "light"
     },
     "output_type": "display_data"
    }
   ],
   "source": [
    "import matplotlib.pyplot as plt\n",
    "%matplotlib inline\n",
    "features = nyc_data.columns\n",
    "importances = rf.feature_importances_\n",
    "indices = np.argsort(importances)\n",
    "\n",
    "plt.title('Feature Importances')\n",
    "plt.barh(range(len(indices)), importances[indices], color='b', align='center')\n",
    "plt.yticks(range(len(indices)), [features[i] for i in indices])\n",
    "plt.xlabel('Relative Importance')\n",
    "plt.show()"
   ]
  },
  {
   "cell_type": "markdown",
   "metadata": {},
   "source": [
    "# Random forest tuning"
   ]
  },
  {
   "cell_type": "code",
   "execution_count": 35,
   "metadata": {},
   "outputs": [
    {
     "name": "stdout",
     "output_type": "stream",
     "text": [
      "Best tree:  RandomForestRegressor(bootstrap=True, ccp_alpha=0.0, criterion='mse',\n",
      "                      max_depth=14, max_features=5, max_leaf_nodes=None,\n",
      "                      max_samples=0.5, min_impurity_decrease=0.0,\n",
      "                      min_impurity_split=None, min_samples_leaf=1,\n",
      "                      min_samples_split=0.001, min_weight_fraction_leaf=0.0,\n",
      "                      n_estimators=100, n_jobs=None, oob_score=False,\n",
      "                      random_state=None, verbose=0, warm_start=False)\n",
      "Best sore:  0.38530466327816043\n",
      "Test score:  0.40213489222094634\n",
      "Train error:  9190.017458691234\n",
      "Test error:  10362.510693339838\n"
     ]
    }
   ],
   "source": [
    "from sklearn.model_selection import RandomizedSearchCV\n",
    "from sklearn.metrics import accuracy_score, recall_score, f1_score\n",
    "from sklearn import tree\n",
    "rf=RandomForestRegressor(max_samples=0.5)\n",
    "grid_params={'n_estimators' : [25,50,75,100],\n",
    "              'max_features' : [5,7,9,11,13],\n",
    "             'min_samples_split': np.arange(0.001,0.1,0.001),\n",
    "             'max_depth':np.arange(5,15,1)}\n",
    "rsearch_rf=RandomizedSearchCV(estimator=rf, param_distributions=grid_params, n_iter=500, n_jobs=-1)\n",
    "rsearch_rf.fit(X_train, y_train)\n",
    "print('Best tree: ',rsearch_rf.best_estimator_)\n",
    "print('Best sore: ', rsearch_rf.best_score_)\n",
    "print('Test score: ', rsearch_rf.score(X_test, y_test))\n",
    "print('Train error: ', mean_squared_error(y_train, rsearch_rf.predict(X_train)))\n",
    "print('Test error: ', mean_squared_error(y_test, rsearch_rf.predict(X_test)))\n"
   ]
  },
  {
   "cell_type": "markdown",
   "metadata": {},
   "source": [
    "# Ada Boost"
   ]
  },
  {
   "cell_type": "code",
   "execution_count": 29,
   "metadata": {},
   "outputs": [
    {
     "name": "stdout",
     "output_type": "stream",
     "text": [
      "Train score:  0.09696004865845753\n",
      "Test score:  0.04295638858503503\n",
      "Train MSE:  15641.059046273804\n",
      "Test MSE:  16587.98034580269\n"
     ]
    }
   ],
   "source": [
    "from sklearn.ensemble import GradientBoostingRegressor, AdaBoostRegressor\n",
    "ada_boost=AdaBoostRegressor(n_estimators=50, base_estimator=DecisionTreeRegressor(max_depth=10))\n",
    "ada_boost.fit(X_train, y_train)\n",
    "print( 'Train score: ',ada_boost.score(X_train, y_train))\n",
    "print( 'Test score: ',ada_boost.score(X_test, y_test))\n",
    "\n",
    "print('Train MSE: ',mean_squared_error(y_train, ada_boost.predict(X_train)))\n",
    "print('Test MSE: ',mean_squared_error(y_test, ada_boost.predict(X_test)))"
   ]
  },
  {
   "cell_type": "markdown",
   "metadata": {},
   "source": [
    "# Ada Boost Tuning"
   ]
  },
  {
   "cell_type": "code",
   "execution_count": 30,
   "metadata": {},
   "outputs": [
    {
     "name": "stdout",
     "output_type": "stream",
     "text": [
      "AdaBoostRegressor(base_estimator=DecisionTreeRegressor(ccp_alpha=0.0,\n",
      "                                                       criterion='mse',\n",
      "                                                       max_depth=15,\n",
      "                                                       max_features=None,\n",
      "                                                       max_leaf_nodes=None,\n",
      "                                                       min_impurity_decrease=0.0,\n",
      "                                                       min_impurity_split=None,\n",
      "                                                       min_samples_leaf=1,\n",
      "                                                       min_samples_split=2,\n",
      "                                                       min_weight_fraction_leaf=0.0,\n",
      "                                                       presort='deprecated',\n",
      "                                                       random_state=None,\n",
      "                                                       splitter='best'),\n",
      "                  learning_rate=0.5, loss='linear', n_estimators=30,\n",
      "                  random_state=None)\n",
      "Train score:  0.37334169777184145\n",
      "Test score :  0.3773881659285421\n",
      "Train MSE:  3575.417372134195\n",
      "Test MSE:  10791.433894399033\n"
     ]
    }
   ],
   "source": [
    "from sklearn.model_selection import RandomizedSearchCV\n",
    "param_grid={'base_estimator' : [DecisionTreeRegressor(max_depth=3),DecisionTreeRegressor(max_depth=7),DecisionTreeRegressor(max_depth=15)],\n",
    "            'n_estimators' : [10,20,30,40,50],\n",
    "              'learning_rate' : [0.1,0.5,1,2,5,10]}\n",
    "rsearch_ada=RandomizedSearchCV(estimator=AdaBoostRegressor(),param_distributions=param_grid,n_jobs=-1, n_iter=50)\n",
    "rsearch_ada.fit(X_train, y_train)\n",
    "print(rsearch_ada.best_estimator_)\n",
    "print('Train score: ',rsearch_ada.best_score_)\n",
    "print('Test score : ', rsearch_ada.score(X_test, y_test))\n",
    "\n",
    "print('Train MSE: ', mean_squared_error(y_train, rsearch_ada.predict(X_train)))\n",
    "print('Test MSE: ', mean_squared_error(y_test, rsearch_ada.predict(X_test)))\n"
   ]
  },
  {
   "cell_type": "markdown",
   "metadata": {},
   "source": [
    "# Gradient Boosting"
   ]
  },
  {
   "cell_type": "code",
   "execution_count": 31,
   "metadata": {},
   "outputs": [
    {
     "name": "stdout",
     "output_type": "stream",
     "text": [
      "Train r2:  0.4918483039796536\n",
      "Test r2:  0.40898398823580173\n",
      "Train MSE:  8801.416449085049\n",
      "Test MSE:  10243.798579570055\n"
     ]
    }
   ],
   "source": [
    "from sklearn.ensemble import GradientBoostingRegressor\n",
    "g_boost=GradientBoostingRegressor(n_estimators=200, max_depth=5)\n",
    "g_boost.fit(X_train, y_train)\n",
    "\n",
    "print('Train r2: ',g_boost.score(X_train, y_train))\n",
    "print('Test r2: ',g_boost.score(X_test, y_test))\n",
    "\n",
    "print('Train MSE: ', mean_squared_error(y_train, g_boost.predict(X_train)))\n",
    "print('Test MSE: ', mean_squared_error(y_test, g_boost.predict(X_test)))"
   ]
  },
  {
   "cell_type": "markdown",
   "metadata": {},
   "source": [
    "# Gradient Boosting Tuning"
   ]
  },
  {
   "cell_type": "code",
   "execution_count": 32,
   "metadata": {},
   "outputs": [
    {
     "name": "stderr",
     "output_type": "stream",
     "text": [
      "C:\\Users\\Lenovo\\Anaconda3\\lib\\site-packages\\sklearn\\model_selection\\_search.py:788: RuntimeWarning: invalid value encountered in subtract\n",
      "  array_means[:, np.newaxis]) ** 2,\n",
      "C:\\Users\\Lenovo\\Anaconda3\\lib\\site-packages\\sklearn\\model_selection\\_search.py:788: RuntimeWarning: overflow encountered in square\n",
      "  array_means[:, np.newaxis]) ** 2,\n"
     ]
    },
    {
     "name": "stdout",
     "output_type": "stream",
     "text": [
      "GradientBoostingRegressor(alpha=0.9, ccp_alpha=0.0, criterion='friedman_mse',\n",
      "                          init=None, learning_rate=0.1, loss='ls', max_depth=10,\n",
      "                          max_features=11, max_leaf_nodes=None,\n",
      "                          min_impurity_decrease=0.0, min_impurity_split=None,\n",
      "                          min_samples_leaf=1, min_samples_split=0.004,\n",
      "                          min_weight_fraction_leaf=0.0, n_estimators=50,\n",
      "                          n_iter_no_change=None, presort='deprecated',\n",
      "                          random_state=None, subsample=1.0, tol=0.0001,\n",
      "                          validation_fraction=0.1, verbose=0, warm_start=False)\n",
      "Train R2 = 0.40558163330930597\n",
      "Test R2 = 0.4106627658637848\n",
      "Train - MSE\n",
      "7627.304588813888\n",
      "Test - MSE\n",
      "10214.701127828243\n"
     ]
    }
   ],
   "source": [
    "param_grid = {'n_estimators' : [50,100, 150, 200, 250],\n",
    "              'max_features' : [5,7,9,11,13],\n",
    "              'learning_rate' : [0.1,0.5,1,2,5,10],\n",
    "             'min_samples_split': np.arange(0.001,0.1,0.001),\n",
    "             'max_depth':np.arange(5,15,1)}\n",
    "\n",
    "rsearch_gb = RandomizedSearchCV(estimator=GradientBoostingRegressor(), param_distributions=param_grid,n_iter=50, n_jobs=-1)\n",
    "rsearch_gb.fit(X_train, y_train)\n",
    "print(rsearch_gb.best_estimator_)\n",
    "print('Train R2 =',rsearch_gb.best_score_)\n",
    "print('Test R2 =',rsearch_gb.score(X_test, y_test))\n",
    "\n",
    "print(\"Train - MSE\")\n",
    "print(mean_squared_error(y_train,rsearch_gb.predict(X_train)))\n",
    "print(\"Test - MSE\")\n",
    "print(mean_squared_error(y_test,rsearch_gb.predict(X_test)))"
   ]
  }
 ],
 "metadata": {
  "kernelspec": {
   "display_name": "Python 3",
   "language": "python",
   "name": "python3"
  },
  "language_info": {
   "codemirror_mode": {
    "name": "ipython",
    "version": 3
   },
   "file_extension": ".py",
   "mimetype": "text/x-python",
   "name": "python",
   "nbconvert_exporter": "python",
   "pygments_lexer": "ipython3",
   "version": "3.7.4"
  }
 },
 "nbformat": 4,
 "nbformat_minor": 2
}
